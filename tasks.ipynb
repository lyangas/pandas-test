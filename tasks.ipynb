{
 "cells": [
  {
   "cell_type": "code",
   "execution_count": 2,
   "metadata": {},
   "outputs": [],
   "source": [
    "import pandas as pd"
   ]
  },
  {
   "cell_type": "code",
   "execution_count": 3,
   "metadata": {},
   "outputs": [],
   "source": [
    "tariff_broadband_df = pd.read_excel(r'Тарифы.xlsx', names=['account', 'connected', 'tariff', 'IP', 'lease'])\n",
    "payment_broadband_df = pd.read_excel(r'Оплата.xlsx', names=['account', 'datetime', 'amount', 'method']);\n",
    "CC_call_df = pd.read_excel(r'Обращения в КЦ.xlsx', names=['date', 'time', 'duration', 'account', 'region', 'theme', 'type'])\n",
    "change_tariff_broadband_df = pd.read_excel(r'Изменения тарифов.xlsx', names=['account', 'datetime', 'new_tariff', 'old_tariff']);\n",
    "\n",
    "tariff_broadband_df['connected'] = tariff_broadband_df['connected'].astype('datetime64').dt.date\n",
    "payment_broadband_df['datetime'] = payment_broadband_df['datetime'].astype('datetime64').dt.date\n",
    "CC_call_df['date'] = CC_call_df['date'].astype('datetime64').dt.date\n",
    "change_tariff_broadband_df['datetime'] = change_tariff_broadband_df['datetime'].astype('datetime64').dt.date"
   ]
  },
  {
   "cell_type": "markdown",
   "metadata": {},
   "source": [
    "<h4>1. Укажите три самых частых тарифа</h4>"
   ]
  },
  {
   "cell_type": "code",
   "execution_count": 10,
   "metadata": {},
   "outputs": [
    {
     "name": "stdout",
     "output_type": "stream",
     "text": [
      "1 место - тариф: \"План А\"\n",
      "2 место - тариф: \"Средний план\"\n",
      "3 место - тариф: \"Камбэк 250\"\n"
     ]
    }
   ],
   "source": [
    "#находим число пользователей каждого тарифа\n",
    "topOfTariffByAccounts = tariff_broadband_df['tariff'].value_counts()\n",
    "\n",
    "#выводим 3 самых популярных\n",
    "for i, tariff in enumerate(topOfTariffByAccounts.index.tolist()[:3]):\n",
    "    print('{} место - тариф: \"{}\"'.format(i + 1, tariff))"
   ]
  },
  {
   "cell_type": "markdown",
   "metadata": {},
   "source": [
    "<h4>2. Укажите месяц с самым большим количеством подключений</h4>"
   ]
  },
  {
   "cell_type": "code",
   "execution_count": 5,
   "metadata": {},
   "outputs": [
    {
     "name": "stdout",
     "output_type": "stream",
     "text": [
      "месяц с наибольшим числом подключений: Октябрь\n"
     ]
    }
   ],
   "source": [
    "#считаем сколько подключений было в каждом месяце\n",
    "months = {1:'Январь', 2:'Февраль', 3:'Март', 4:'Апрель', 5:'Май', 6:'Июнь', 7:'Июль', 8:'Август', 9:'Сентябрь', 10:'Октябрь', 11:'Ноябрь', 12:'Декабрь'}\n",
    "monthHasConnections = {}\n",
    "for mouthIndex in range(1, 13):\n",
    "    if mouthIndex != 12:\n",
    "        mask = (tariff_broadband_df['connected'] >= pd.datetime(2018, mouthIndex, 1).date()) & (tariff_broadband_df['connected'] < pd.datetime(2018, mouthIndex + 1, 1).date())\n",
    "    else:\n",
    "        mask = (tariff_broadband_df['connected'] >= pd.datetime(2018, 12, 1).date()) & (tariff_broadband_df['connected'] <= pd.datetime(2018, 12, 31).date())\n",
    "    monthHasConnections.update({months[mouthIndex]: tariff_broadband_df.loc[mask, 'connected'].count()})\n",
    "\n",
    "#выводим месяц с наибольшим числом подключений\n",
    "monthWithMaxConnections = max(monthHasConnections, key=lambda key: monthHasConnections[key])\n",
    "print('месяц с наибольшим числом подключений: {}'.format(monthWithMaxConnections))"
   ]
  },
  {
   "cell_type": "markdown",
   "metadata": {},
   "source": [
    "<h4>3. Найдите корреляцию между наличием у абонента статического IP адреса и наличием роутера в аренде. Что можно сказать о связи друг с другом этих свойств?</h4>"
   ]
  },
  {
   "cell_type": "code",
   "execution_count": 90,
   "metadata": {},
   "outputs": [
    {
     "name": "stdout",
     "output_type": "stream",
     "text": [
      "корреляция = -0.040385354255088275\n",
      "вывод - корреляция практически нулевая, значит, что эти величины не зависят друг от друга. Отрицательное заничение означает бы, что чаще IP и роутер - это взаимоисключающие услуги\n"
     ]
    }
   ],
   "source": [
    "corr = tariff_broadband_df['IP'].corr(tariff_broadband_df['lease'], method='spearman')\n",
    "print('корреляция = {}'.format(corr))\n",
    "print('вывод - корреляция практически нулевая, значит, что эти величины не зависят друг от друга. Отрицательное заничение означает бы, что чаще IP и роутер - это взаимоисключающие услуги')"
   ]
  },
  {
   "cell_type": "markdown",
   "metadata": {},
   "source": [
    "<h4>4. Определите среднее, моду, медиану, 1 и 3 квартили (Q1 и Q3) поступивших платежей</h4>"
   ]
  },
  {
   "cell_type": "code",
   "execution_count": 91,
   "metadata": {},
   "outputs": [
    {
     "name": "stdout",
     "output_type": "stream",
     "text": [
      "среднее = 481.5872599645292\n",
      "мода = 500.0\n",
      "медиана = 500.0\n",
      "Q1 = 250.0\n",
      "Q3 = 590.0\n"
     ]
    }
   ],
   "source": [
    "#считаем различные параметры:\n",
    "mean = payment_broadband_df.amount.describe()['mean']\n",
    "mode = payment_broadband_df.amount.mode()[0]\n",
    "median = payment_broadband_df.amount.median()\n",
    "Q1 = payment_broadband_df.amount.describe()['25%']\n",
    "Q3 = payment_broadband_df.amount.describe()['75%']\n",
    "\n",
    "print('среднее = {}'.format(mean))\n",
    "print('мода = {}'.format(mode))\n",
    "print('медиана = {}'.format(median))\n",
    "print('Q1 = {}'.format(Q1))\n",
    "print('Q3 = {}'.format(Q3))"
   ]
  },
  {
   "cell_type": "markdown",
   "metadata": {},
   "source": [
    "<h4>5. Определите месяц с наибольшей суммой платежей</h4>"
   ]
  },
  {
   "cell_type": "code",
   "execution_count": 92,
   "metadata": {},
   "outputs": [
    {
     "name": "stdout",
     "output_type": "stream",
     "text": [
      "месяц с наибольшей суммой платежей: Декабрь\n"
     ]
    }
   ],
   "source": [
    "#считаем суммы платежей для каждого месяца\n",
    "months = {1:'Январь', 2:'Февраль', 3:'Март', 4:'Апрель', 5:'Май', 6:'Июнь', 7:'Июль', 8:'Август', 9:'Сентябрь', 10:'Октябрь', 11:'Ноябрь', 12:'Декабрь'}\n",
    "monthHasPayments = {}\n",
    "for mouthIndex in range(1, 13):\n",
    "    if mouthIndex != 12:\n",
    "        mask = (payment_broadband_df['datetime'] >= pd.datetime(2018, mouthIndex, 1).date()) & (payment_broadband_df['datetime'] < pd.datetime(2018, mouthIndex + 1, 1).date())\n",
    "    else:\n",
    "        mask = (payment_broadband_df['datetime'] >= pd.datetime(2018, 12, 1).date()) & (payment_broadband_df['datetime'] <= pd.datetime(2018, 12, 31).date())\n",
    "    monthHasPayments.update({months[mouthIndex]: payment_broadband_df.loc[mask, 'amount'].sum(axis=0)})\n",
    "\n",
    "#выводим месяц с наибольшей суммой платежей\n",
    "monthWithMaxPayments = max(monthHasPayments, key=lambda key: monthHasPayments[key])\n",
    "print('месяц с наибольшей суммой платежей: {}'.format(monthWithMaxPayments))"
   ]
  },
  {
   "cell_type": "markdown",
   "metadata": {},
   "source": [
    "<h4>6. Найдите 3 договора, заплативших наибольшую сумму</h4>"
   ]
  },
  {
   "cell_type": "code",
   "execution_count": 93,
   "metadata": {},
   "outputs": [
    {
     "name": "stdout",
     "output_type": "stream",
     "text": [
      "1 место - договор: 100667\n",
      "2 место - договор: 781442\n",
      "3 место - договор: 184287\n"
     ]
    }
   ],
   "source": [
    "#если необходимо смотреть сумму единоразового платежа по договору\n",
    "\n",
    "#выводим три строки с наибольшим значением amount:\n",
    "top3accountsByAmount = payment_broadband_df.nlargest(3, 'amount').account.tolist()\n",
    "for i in range(len(top3accountsByAmount)):\n",
    "    print('{} место - договор: {}'.format(i + 1, top3accountsByAmount[i]))"
   ]
  },
  {
   "cell_type": "code",
   "execution_count": 94,
   "metadata": {},
   "outputs": [
    {
     "name": "stdout",
     "output_type": "stream",
     "text": [
      "договор \"781442\" - было заплочено: 29000.0\n",
      "договор \"1532729\" - было заплочено: 20000.0\n",
      "договор \"1219811\" - было заплочено: 19516.0\n"
     ]
    }
   ],
   "source": [
    "#если необходимо смотреть сумму всех платежей по договору\n",
    "\n",
    "#находим список всех договоров\n",
    "accounts = payment_broadband_df.account.value_counts().index.tolist()\n",
    "\n",
    "#находим, сколько суммарно было заплочено каждым договором\n",
    "accountHasSumOfAmounts = {}\n",
    "for account in accounts:\n",
    "    sumOfAmount =  payment_broadband_df[payment_broadband_df['account'] == account].amount.sum(axis=0)\n",
    "    accountHasSumOfAmounts.update({account: sumOfAmount})\n",
    "\n",
    "#сортируем по возрастанию и выводим 3 заплативших самую большую сумму\n",
    "arraySortedAccounts = list(accountHasSumOfAmounts.items())\n",
    "arraySortedAccounts.sort(key=lambda i: i[1], reverse = True)\n",
    "for key, val in arraySortedAccounts[:3]:\n",
    "    print('договор \"{}\" - было заплочено: {}'.format(key, val))"
   ]
  },
  {
   "cell_type": "markdown",
   "metadata": {},
   "source": [
    "<h4>7. Найдите самый частый метод оплаты у клиентов, подключившихся в октябре</h4>"
   ]
  },
  {
   "cell_type": "code",
   "execution_count": 95,
   "metadata": {},
   "outputs": [
    {
     "name": "stdout",
     "output_type": "stream",
     "text": [
      "наиболее часто встречающийся тип оплаты: Альфа\n"
     ]
    }
   ],
   "source": [
    "#находим список всех оплат в октябре\n",
    "mask = (payment_broadband_df['datetime'] >= pd.datetime(2018, 10, 1).date()) & (payment_broadband_df['datetime'] <= pd.datetime(2018, 11, 1).date())\n",
    "peymentsInOctober = payment_broadband_df.loc[mask, 'method']\n",
    "\n",
    "#находим наиболее часто встречающийся\n",
    "print('наиболее часто встречающийся тип оплаты: {}'.format(peymentsInOctober.mode()[0]))"
   ]
  },
  {
   "cell_type": "markdown",
   "metadata": {},
   "source": [
    "<h4>8. Найдите 3 договора, на которых наиболее часто меняли тарифы</h4>"
   ]
  },
  {
   "cell_type": "code",
   "execution_count": 96,
   "metadata": {},
   "outputs": [
    {
     "name": "stdout",
     "output_type": "stream",
     "text": [
      "1 метсто - договор: 105594\n",
      "2 метсто - договор: 157175\n",
      "3 метсто - договор: 298677\n"
     ]
    }
   ],
   "source": [
    "#находим сколько раз упоминается каждый договор\n",
    "accountsFreq = change_tariff_broadband_df.account.value_counts()\n",
    "\n",
    "#находим топ-3\n",
    "top3accounts = accountsFreq.index.tolist()[:3]\n",
    "for i in range(len(top3accounts)):\n",
    "    print('{} метсто - договор: {}'.format(i + 1, top3accounts[i]))"
   ]
  },
  {
   "cell_type": "markdown",
   "metadata": {},
   "source": [
    "<h4>9. Укажите тариф, с которого \"уходили\" (переключались на другой) чащей всего</h4>"
   ]
  },
  {
   "cell_type": "code",
   "execution_count": 97,
   "metadata": {},
   "outputs": [
    {
     "name": "stdout",
     "output_type": "stream",
     "text": [
      "тариф с которого уходили чаще всего: План А\n"
     ]
    }
   ],
   "source": [
    "#выводим наиболее часто встречающийся тариф в столбце \"old_tariff\" \n",
    "tariff = change_tariff_broadband_df.old_tariff.mode().tolist()[0]\n",
    "print('тариф с которого уходили чаще всего: {}'.format(tariff))"
   ]
  },
  {
   "cell_type": "markdown",
   "metadata": {},
   "source": [
    "<h4>10. Укажите договор клиента, который подключившись в 2018 году, обращался в КЦ чаще всего</h4>"
   ]
  },
  {
   "cell_type": "code",
   "execution_count": 98,
   "metadata": {},
   "outputs": [
    {
     "name": "stdout",
     "output_type": "stream",
     "text": [
      "клиент, зарегестрировавшийся в 2018 и обращавшийся чаще всего: 244516\n"
     ]
    }
   ],
   "source": [
    "#составляем список всех пользователей за 2018 год\n",
    "accountsCreatedIn2018 = tariff_broadband_df.account.tolist()\n",
    "\n",
    "#составляем ТОП пользователей по числу обращений\n",
    "topChatFrequencyUsers = CC_call_df.account.value_counts()\n",
    "\n",
    "#проходим по ТОПу в поисках аккаунта, зарегестрированного в 2018 году\n",
    "for account in topChatFrequencyUsers.index.tolist():\n",
    "    if account in accountsCreatedIn2018:\n",
    "        contactedMostOften = account\n",
    "        break\n",
    "        \n",
    "print('клиент, зарегестрировавшийся в 2018 и обращавшийся чаще всего: {}'.format(contactedMostOften))"
   ]
  },
  {
   "cell_type": "markdown",
   "metadata": {},
   "source": [
    "<h4>11. Укажите шестичасовой интервал, в котором было больше всего обращений в КЦ</h4>"
   ]
  },
  {
   "cell_type": "code",
   "execution_count": 86,
   "metadata": {},
   "outputs": [
    {
     "name": "stdout",
     "output_type": "stream",
     "text": [
      "временной промежуток с наибольшим числом запросов:\n",
      "с 12:00 до 18:00 было 40481 запроса\n"
     ]
    }
   ],
   "source": [
    "#если речь идет только о четырех промежутках 0:00-06:00, 06:00-12:00, 12:00-18:00, 18:00-00:00 \n",
    "#(стартовый момент времнеи передвигаем каждый раз на 6 часов)\n",
    "\n",
    "#сколько-часовой промежуток\n",
    "deltaTime = 6\n",
    "\n",
    "#объект для хранения времени старта для интервала с наибольшим числом обращений\n",
    "timeIntervalWithMaxRequest = {'h': 0, 'm': 0, 'countOfRequests': 0} \n",
    "\n",
    "#перебираем все временные промежутки с шагом в 1 минуту\n",
    "for h in range(0, 24, deltaTime):\n",
    "    timeMomentStart = h * 3600\n",
    "    timeMomentEnd = timeMomentStart + deltaTime * 3600\n",
    "    mask = ((pd.to_datetime(CC_call_df['time'],format= '%H:%M:%S' ).dt.time > pd.to_datetime(timeMomentStart, unit='s').time()) & \n",
    "            (pd.to_datetime(CC_call_df['time'],format= '%H:%M:%S' ).dt.time < pd.to_datetime(timeMomentEnd, unit='s').time()))\n",
    "    countOfRequests = CC_call_df.loc[mask].count().time\n",
    "\n",
    "    #обновляем объект, если число обращений больше прежнего \n",
    "    if timeIntervalWithMaxRequest['countOfRequests'] < countOfRequests:\n",
    "        timeIntervalWithMaxRequest = {'h': h, 'm': '00', 'countOfRequests': countOfRequests}\n",
    "\n",
    "print('временной промежуток с наибольшим числом запросов:')\n",
    "print('с {}:{} до {}:{} было {} запроса'.format(timeIntervalWithMaxRequest['h'], \n",
    "                                                    timeIntervalWithMaxRequest['m'], \n",
    "                                                    timeIntervalWithMaxRequest['h'] + deltaTime, \n",
    "                                                    timeIntervalWithMaxRequest['m'], \n",
    "                                                    timeIntervalWithMaxRequest['countOfRequests']))"
   ]
  },
  {
   "cell_type": "code",
   "execution_count": 87,
   "metadata": {},
   "outputs": [
    {
     "name": "stdout",
     "output_type": "stream",
     "text": [
      "временной промежуток с наибольшим числом запросов:\n",
      "с 10:52 до 16:52  было 40955 запроса\n",
      "CPU times: user 6min 23s, sys: 1.19 s, total: 6min 24s\n",
      "Wall time: 6min 25s\n"
     ]
    }
   ],
   "source": [
    "%%time\n",
    "#если речь идет только о 24*60=1440 промежутках\n",
    "#(стартовый момент времнеи передвигаем каждый раз на 1 минуту)\n",
    "\n",
    "#сколько-часовой промежуток\n",
    "deltaTime = 6\n",
    "\n",
    "#объект для хранения времени старта для интервала с наибольшим числом обращений\n",
    "timeIntervalWithMaxRequest = {'h': 0, 'm': 0, 'countOfRequests': 0} \n",
    "\n",
    "#перебираем все временные промежутки с шагом в 1 минуту\n",
    "for h in range(24 - deltaTime):\n",
    "    for m in range(60):\n",
    "        timeMomentStart = h * 3600 + m * 60\n",
    "        timeMomentEnd = timeMomentStart + deltaTime * 3600\n",
    "        mask = ((pd.to_datetime(CC_call_df['time'],format= '%H:%M:%S' ).dt.time > pd.to_datetime(timeMomentStart, unit='s').time()) & \n",
    "                (pd.to_datetime(CC_call_df['time'],format= '%H:%M:%S' ).dt.time < pd.to_datetime(timeMomentEnd, unit='s').time()))\n",
    "        countOfRequests = CC_call_df.loc[mask].count().time\n",
    "        \n",
    "        #обновляем объект, если число обращений больше прежнего \n",
    "        if timeIntervalWithMaxRequest['countOfRequests'] < countOfRequests:\n",
    "            timeIntervalWithMaxRequest = {'h': h, 'm': m, 'countOfRequests': countOfRequests}\n",
    "\n",
    "print('временной промежуток с наибольшим числом запросов:')\n",
    "print('с {}:{} до {}:{}  было {} запроса'.format(timeIntervalWithMaxRequest['h'], \n",
    "                                                    timeIntervalWithMaxRequest['m'], \n",
    "                                                    timeIntervalWithMaxRequest['h'] + deltaTime, \n",
    "                                                    timeIntervalWithMaxRequest['m'], \n",
    "                                                    timeIntervalWithMaxRequest['countOfRequests']))"
   ]
  },
  {
   "cell_type": "markdown",
   "metadata": {},
   "source": [
    "<h4>12. Определите среднее время разговора с КЦ клиентов из г. Обнинск</h4>"
   ]
  },
  {
   "cell_type": "code",
   "execution_count": 88,
   "metadata": {},
   "outputs": [
    {
     "name": "stdout",
     "output_type": "stream",
     "text": [
      "средняя продолжительность разговора: 232.44с\n"
     ]
    }
   ],
   "source": [
    "#находим продолжительности всех звонков из г. Обнинск\n",
    "callsHasDuration = CC_call_df[CC_call_df['region'] == 'г. Обнинск'].duration\n",
    "\n",
    "#находим среднее значение\n",
    "meanDuration = callsHasDuration.describe()['mean']\n",
    "print('средняя продолжительность разговора: {}с'.format(meanDuration))"
   ]
  },
  {
   "cell_type": "markdown",
   "metadata": {},
   "source": [
    "<h4>13. Укажите 5 наиболее часто встречающихся типов обращений в КЦ (в порядке убывания их кол-ва) клиентов, которые подключились в 2018 году и сделали платежей на сумму от 10 000 руб.</h4>"
   ]
  },
  {
   "cell_type": "code",
   "execution_count": 89,
   "metadata": {},
   "outputs": [
    {
     "name": "stdout",
     "output_type": "stream",
     "text": [
      "1 место - тип обращения: Проблема с Интернет\n",
      "2 место - тип обращения: Иная консультация\n",
      "3 место - тип обращения: Общая проблема\n",
      "4 место - тип обращения: Вопрос по настройке оборудования\n",
      "5 место - тип обращения: Повторное обращение по техническому ТТ\n"
     ]
    }
   ],
   "source": [
    "#составляем список всех пользователей за 2018 год\n",
    "accountsCreatedIn2018 = tariff_broadband_df.account.tolist()\n",
    "\n",
    "#находим сумму платежей по договору каждого клиента, подключенного в 2018\n",
    "mask = payment_broadband_df.account.isin(accountsCreatedIn2018)\n",
    "accountHasPayments = payment_broadband_df.loc[mask, ['account', 'amount']].groupby('account').amount.sum()\n",
    "\n",
    "#отсееваем договора, в которых сумма менее 10000\n",
    "mask = accountHasPayments > 10000\n",
    "accountHasSumOfAmountsOver10k = accountHasPayments[mask].index.tolist()\n",
    "\n",
    "#находим число обращений по каждому типу обращений среди пользователей подходящих под условия (подкл. в 2018г и сумма платежей >10k)\n",
    "mask = (CC_call_df.account.isin(accountHasSumOfAmountsOver10k))\n",
    "typeHasCount = CC_call_df.loc[mask].type.value_counts()\n",
    "\n",
    "#находим ТОП 5 типов обращений по числу обращений\n",
    "top5types = typeHasCount.index.tolist()[:5]\n",
    "for i in range(len(top5types)):\n",
    "    print('{} место - тип обращения: {}'.format(i + 1, top5types[i]))"
   ]
  }
 ],
 "metadata": {
  "kernelspec": {
   "display_name": "Python 3",
   "language": "python",
   "name": "python3"
  },
  "language_info": {
   "codemirror_mode": {
    "name": "ipython",
    "version": 3
   },
   "file_extension": ".py",
   "mimetype": "text/x-python",
   "name": "python",
   "nbconvert_exporter": "python",
   "pygments_lexer": "ipython3",
   "version": "3.7.5"
  }
 },
 "nbformat": 4,
 "nbformat_minor": 4
}
